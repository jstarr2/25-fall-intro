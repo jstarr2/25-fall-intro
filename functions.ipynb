{
 "cells": [
  {
   "cell_type": "markdown",
   "metadata": {},
   "source": [
    "# Lecture 9: Functions #"
   ]
  },
  {
   "cell_type": "code",
   "execution_count": 1,
   "metadata": {},
   "outputs": [],
   "source": [
    "from datascience import *\n",
    "import numpy as np\n",
    "\n",
    "%matplotlib inline\n",
    "import matplotlib.pyplot as plots\n",
    "plots.style.use('fivethirtyeight')"
   ]
  },
  {
   "cell_type": "markdown",
   "metadata": {},
   "source": [
    "## Defining Functions ##  "
   ]
  },
  {
   "cell_type": "markdown",
   "metadata": {},
   "source": [
    "Example: Create a function that takes a numerical input and triples it: $\\textsf{triple}(x)=3\\,x$"
   ]
  },
  {
   "cell_type": "code",
   "execution_count": 2,
   "metadata": {},
   "outputs": [],
   "source": [
    "def triple(x):\n",
    "    return 3 * x"
   ]
  },
  {
   "cell_type": "code",
   "execution_count": 3,
   "metadata": {},
   "outputs": [
    {
     "data": {
      "text/plain": [
       "12"
      ]
     },
     "execution_count": 3,
     "metadata": {},
     "output_type": "execute_result"
    }
   ],
   "source": [
    "triple(4)"
   ]
  },
  {
   "cell_type": "markdown",
   "metadata": {},
   "source": [
    "We can also assign a value to a name, and call the function on the name:"
   ]
  },
  {
   "cell_type": "code",
   "execution_count": 4,
   "metadata": {},
   "outputs": [],
   "source": [
    "num = 4"
   ]
  },
  {
   "cell_type": "code",
   "execution_count": 5,
   "metadata": {},
   "outputs": [
    {
     "data": {
      "text/plain": [
       "12"
      ]
     },
     "execution_count": 5,
     "metadata": {},
     "output_type": "execute_result"
    }
   ],
   "source": [
    "triple(num)"
   ]
  },
  {
   "cell_type": "markdown",
   "metadata": {},
   "source": [
    "## The Anatomy of a Function ##  \n",
    "    \n",
    "```python\n",
    "def functionname(Arguments_Parameters_Expressions_or_Values):     \n",
    "      return return_expression\n",
    "```"
   ]
  },
  {
   "cell_type": "markdown",
   "metadata": {},
   "source": [
    "## Functions are Type-Agnostic  ## "
   ]
  },
  {
   "cell_type": "code",
   "execution_count": 6,
   "metadata": {
    "scrolled": true
   },
   "outputs": [
    {
     "data": {
      "text/plain": [
       "'hahaha'"
      ]
     },
     "execution_count": 6,
     "metadata": {},
     "output_type": "execute_result"
    }
   ],
   "source": [
    "triple('ha')"
   ]
  },
  {
   "cell_type": "code",
   "execution_count": 7,
   "metadata": {},
   "outputs": [
    {
     "data": {
      "text/plain": [
       "array([0, 3, 6, 9])"
      ]
     },
     "execution_count": 7,
     "metadata": {},
     "output_type": "execute_result"
    }
   ],
   "source": [
    "triple(np.arange(4))"
   ]
  },
  {
   "cell_type": "markdown",
   "metadata": {},
   "source": [
    "### Discussion ###\n",
    "\n",
    "- What does the following function do?\n",
    "- What type of input does it take?\n",
    "- What type of output does it produce?\n",
    "- What's a good name for the function?\n",
    "\n",
    "```python\n",
    "def f(s):     \n",
    "      return np.round(s / sum(s) * 100, 2)\n",
    "```"
   ]
  },
  {
   "cell_type": "code",
   "execution_count": 8,
   "metadata": {},
   "outputs": [],
   "source": [
    "def percent_of_total(s):\n",
    "    return np.round(s / sum(s) * 100, 2)"
   ]
  },
  {
   "cell_type": "code",
   "execution_count": 9,
   "metadata": {},
   "outputs": [
    {
     "data": {
      "text/plain": [
       "array([3, 5, 6, 9])"
      ]
     },
     "execution_count": 9,
     "metadata": {},
     "output_type": "execute_result"
    }
   ],
   "source": [
    "first_four=make_array(3,5,6,9)\n",
    "first_four"
   ]
  },
  {
   "cell_type": "code",
   "execution_count": 10,
   "metadata": {},
   "outputs": [
    {
     "data": {
      "text/plain": [
       "array([ 13.04,  21.74,  26.09,  39.13])"
      ]
     },
     "execution_count": 10,
     "metadata": {},
     "output_type": "execute_result"
    }
   ],
   "source": [
    "percent_of_total(first_four)"
   ]
  },
  {
   "cell_type": "code",
   "execution_count": 11,
   "metadata": {},
   "outputs": [
    {
     "data": {
      "text/plain": [
       "array([  0.4 ,  84.52,  15.08])"
      ]
     },
     "execution_count": 11,
     "metadata": {},
     "output_type": "execute_result"
    }
   ],
   "source": [
    "percent_of_total(make_array(1, 213, 38))"
   ]
  },
  {
   "cell_type": "markdown",
   "metadata": {},
   "source": [
    "### Functions Can Take Multiple Arguments ###"
   ]
  },
  {
   "cell_type": "markdown",
   "metadata": {},
   "source": [
    "Example: Calculate the Hypotenuse Length of a Right Triangle\n",
    "\n",
    "\n",
    "Pythagoras's Theorem: If $x$ and $y$ denote the lengths of the right-angle sides, then the hypotenuse length $h$ satisfies:\n",
    "\n",
    "$$ h^2 = x^2 + y^2 \\qquad \\text{which implies}\\qquad \\hspace{20 pt} h = \\sqrt{ x^2 + y^2 } $$"
   ]
  },
  {
   "cell_type": "code",
   "execution_count": 12,
   "metadata": {},
   "outputs": [],
   "source": [
    "def hypotenuse(x, y):\n",
    "    hypot_squared = (x ** 2 + y ** 2)\n",
    "    hypot = hypot_squared ** 0.5\n",
    "    return hypot"
   ]
  },
  {
   "cell_type": "code",
   "execution_count": 13,
   "metadata": {},
   "outputs": [
    {
     "data": {
      "text/plain": [
       "2.23606797749979"
      ]
     },
     "execution_count": 13,
     "metadata": {},
     "output_type": "execute_result"
    }
   ],
   "source": [
    "hypotenuse(1, 2)"
   ]
  },
  {
   "cell_type": "code",
   "execution_count": 14,
   "metadata": {},
   "outputs": [
    {
     "data": {
      "text/plain": [
       "5.0"
      ]
     },
     "execution_count": 14,
     "metadata": {},
     "output_type": "execute_result"
    }
   ],
   "source": [
    "hypotenuse(3, 4)"
   ]
  },
  {
   "cell_type": "markdown",
   "metadata": {},
   "source": [
    "## Apply ##"
   ]
  },
  {
   "cell_type": "code",
   "execution_count": 15,
   "metadata": {
    "scrolled": true
   },
   "outputs": [
    {
     "data": {
      "text/html": [
       "<table border=\"1\" class=\"dataframe\">\n",
       "    <thead>\n",
       "        <tr>\n",
       "            <th>Person</th> <th>Birth Year</th>\n",
       "        </tr>\n",
       "    </thead>\n",
       "    <tbody>\n",
       "        <tr>\n",
       "            <td>Jim    </td> <td>1985      </td>\n",
       "        </tr>\n",
       "        <tr>\n",
       "            <td>Pam    </td> <td>1988      </td>\n",
       "        </tr>\n",
       "        <tr>\n",
       "            <td>Michael</td> <td>1967      </td>\n",
       "        </tr>\n",
       "        <tr>\n",
       "            <td>Creed  </td> <td>1904      </td>\n",
       "        </tr>\n",
       "    </tbody>\n",
       "</table>"
      ],
      "text/plain": [
       "Person  | Birth Year\n",
       "Jim     | 1985\n",
       "Pam     | 1988\n",
       "Michael | 1967\n",
       "Creed   | 1904"
      ]
     },
     "execution_count": 15,
     "metadata": {},
     "output_type": "execute_result"
    }
   ],
   "source": [
    "ages = Table().with_columns(\n",
    "    'Person', make_array('Jim', 'Pam', 'Michael', 'Creed'),\n",
    "    'Birth Year', make_array(1985, 1988, 1967, 1904)\n",
    ")\n",
    "ages"
   ]
  },
  {
   "cell_type": "code",
   "execution_count": 16,
   "metadata": {},
   "outputs": [],
   "source": [
    "def name_and_birthyear(name, year):\n",
    "    out_string= name + \" was born in \" + str(year) + \".\"\n",
    "    return out_string"
   ]
  },
  {
   "cell_type": "code",
   "execution_count": 17,
   "metadata": {},
   "outputs": [
    {
     "data": {
      "text/plain": [
       "array(['Jim was born in 1985.', 'Pam was born in 1988.',\n",
       "       'Michael was born in 1967.', 'Creed was born in 1904.'],\n",
       "      dtype='<U25')"
      ]
     },
     "execution_count": 17,
     "metadata": {},
     "output_type": "execute_result"
    }
   ],
   "source": [
    "ages_and_years = ages.apply(name_and_birthyear, 'Person', 'Birth Year')\n",
    "ages_and_years"
   ]
  },
  {
   "cell_type": "code",
   "execution_count": 18,
   "metadata": {},
   "outputs": [
    {
     "data": {
      "text/plain": [
       "'Jim was born in 1985.'"
      ]
     },
     "execution_count": 18,
     "metadata": {},
     "output_type": "execute_result"
    }
   ],
   "source": [
    "ages_and_years[0]"
   ]
  },
  {
   "cell_type": "markdown",
   "metadata": {},
   "source": [
    "# Practice\n",
    "\n",
    "1. Define a function named percent_increase that takes two inputs: small and big. The function returns the the *percent* increase from small to big. For example, if small = 100 and big = 105, then percent_increase(small, big) returns 5.\n",
    "\n",
    "2. Apply this function to the Gross and Adjusted Gross columns of top_movies.\n",
    "\n",
    "3. Attach this new column to the table."
   ]
  },
  {
   "cell_type": "code",
   "execution_count": 19,
   "metadata": {},
   "outputs": [
    {
     "data": {
      "text/html": [
       "<table border=\"1\" class=\"dataframe\">\n",
       "    <thead>\n",
       "        <tr>\n",
       "            <th>Title</th> <th>Gross</th> <th>Gross (Adjusted)</th>\n",
       "        </tr>\n",
       "    </thead>\n",
       "    <tbody>\n",
       "        <tr>\n",
       "            <td>Gone with the Wind              </td> <td>198676459</td> <td>1796176700      </td>\n",
       "        </tr>\n",
       "        <tr>\n",
       "            <td>Star Wars                       </td> <td>460998007</td> <td>1583483200      </td>\n",
       "        </tr>\n",
       "        <tr>\n",
       "            <td>The Sound of Music              </td> <td>158671368</td> <td>1266072700      </td>\n",
       "        </tr>\n",
       "        <tr>\n",
       "            <td>E.T.: The Extra-Terrestrial     </td> <td>435110554</td> <td>1261085000      </td>\n",
       "        </tr>\n",
       "        <tr>\n",
       "            <td>Titanic                         </td> <td>658672302</td> <td>1204368000      </td>\n",
       "        </tr>\n",
       "        <tr>\n",
       "            <td>The Ten Commandments            </td> <td>65500000 </td> <td>1164590000      </td>\n",
       "        </tr>\n",
       "        <tr>\n",
       "            <td>Jaws                            </td> <td>260000000</td> <td>1138620700      </td>\n",
       "        </tr>\n",
       "        <tr>\n",
       "            <td>Doctor Zhivago                  </td> <td>111721910</td> <td>1103564200      </td>\n",
       "        </tr>\n",
       "        <tr>\n",
       "            <td>The Exorcist                    </td> <td>232906145</td> <td>983226600       </td>\n",
       "        </tr>\n",
       "        <tr>\n",
       "            <td>Snow White and the Seven Dwarves</td> <td>184925486</td> <td>969010000       </td>\n",
       "        </tr>\n",
       "    </tbody>\n",
       "</table>\n",
       "<p>... (190 rows omitted)</p>"
      ],
      "text/plain": [
       "Title                            | Gross     | Gross (Adjusted)\n",
       "Gone with the Wind               | 198676459 | 1796176700\n",
       "Star Wars                        | 460998007 | 1583483200\n",
       "The Sound of Music               | 158671368 | 1266072700\n",
       "E.T.: The Extra-Terrestrial      | 435110554 | 1261085000\n",
       "Titanic                          | 658672302 | 1204368000\n",
       "The Ten Commandments             | 65500000  | 1164590000\n",
       "Jaws                             | 260000000 | 1138620700\n",
       "Doctor Zhivago                   | 111721910 | 1103564200\n",
       "The Exorcist                     | 232906145 | 983226600\n",
       "Snow White and the Seven Dwarves | 184925486 | 969010000\n",
       "... (190 rows omitted)"
      ]
     },
     "execution_count": 19,
     "metadata": {},
     "output_type": "execute_result"
    }
   ],
   "source": [
    "top_movies = Table.read_table('top_movies_2017.csv').select(\"Title\", \"Gross\", \"Gross (Adjusted)\")\n",
    "top_movies"
   ]
  },
  {
   "cell_type": "code",
   "execution_count": 20,
   "metadata": {},
   "outputs": [],
   "source": [
    "def percent_increase(small,big):\n",
    "    ratio = big/small\n",
    "    pro_increase= ratio -1 \n",
    "    percent= pro_increase * 100\n",
    "    return round(percent,2)"
   ]
  },
  {
   "cell_type": "code",
   "execution_count": 23,
   "metadata": {},
   "outputs": [
    {
     "data": {
      "text/plain": [
       "array([  8.04070000e+02,   2.43490000e+02,   6.97920000e+02,\n",
       "         1.89830000e+02,   8.28500000e+01,   1.67800000e+03,\n",
       "         3.37930000e+02,   8.87780000e+02,   3.22160000e+02,\n",
       "         4.24000000e+02,   2.61000000e+00,   5.13100000e+02,\n",
       "         2.00480000e+02,   1.07732000e+03,   1.37500000e+01,\n",
       "         1.70340000e+02,   1.03050000e+02,   6.91900000e+01,\n",
       "         8.74500000e+01,   4.08000000e+02,   2.17140000e+02,\n",
       "         6.24930000e+02,   8.66200000e+02,   7.74000000e+00,\n",
       "         4.19850000e+02,   1.11620000e+02,   5.79590000e+02,\n",
       "         2.62510000e+02,   9.64000000e+00,   9.45620000e+02,\n",
       "         2.37700000e+01,   3.61790000e+02,   1.15211000e+03,\n",
       "         1.61230000e+02,   4.31600000e+01,   5.13100000e+02,\n",
       "         4.84870000e+02,   5.30100000e+01,   1.01130000e+02,\n",
       "         1.10720000e+02,   6.11200000e+02,   9.33720000e+02,\n",
       "         1.54290000e+02,   1.05387000e+03,   4.84870000e+02,\n",
       "         4.08000000e+02,   1.51636000e+03,   3.57300000e+01,\n",
       "         1.26769000e+03,   4.53960000e+02,   3.70060000e+02,\n",
       "         1.22810000e+02,   2.51471000e+03,   4.50300000e+01,\n",
       "         4.37600000e+01,   3.70370000e+02,   9.70000000e-01,\n",
       "         4.75560000e+02,   4.31600000e+01,   1.38167000e+03,\n",
       "         6.40830000e+02,   2.76010000e+02,   4.31500000e+01,\n",
       "         3.86900000e+01,   1.49260000e+02,   4.98100000e+01,\n",
       "         1.42300000e+01,   7.44000000e+01,   2.79910000e+02,\n",
       "         1.85480000e+02,   2.98650000e+02,   0.00000000e+00,\n",
       "         2.66000000e+00,   1.03974000e+03,   5.65200000e+01,\n",
       "         4.29350000e+02,   2.74040000e+02,   9.98430000e+02,\n",
       "         3.33660000e+02,   3.17370000e+02,   1.96744000e+03,\n",
       "         4.77180000e+02,   5.43900000e+01,   1.01130000e+02,\n",
       "         9.36800000e+01,   1.67800000e+03,   1.91700000e+01,\n",
       "         9.33720000e+02,   1.08533000e+03,   3.37930000e+02,\n",
       "         4.84870000e+02,   1.64580000e+02,   3.67000000e+00,\n",
       "         5.30000000e+01,   1.13670000e+02,   1.14500000e+02,\n",
       "         1.18200000e+01,   1.10230000e+02,   7.00000000e+00,\n",
       "         2.12250000e+03,   1.08200000e+01,   4.74300000e+01,\n",
       "         1.79149000e+03,   1.11763000e+03,   9.36800000e+01,\n",
       "         1.22810000e+02,   5.13400000e+01,   8.79000000e+00,\n",
       "         2.92200000e+01,   6.09000000e+00,   1.10860000e+02,\n",
       "         2.51471000e+03,   6.44600000e+01,   1.37480000e+02,\n",
       "         1.19700000e+01,   7.29800000e+01,   5.70700000e+01,\n",
       "         2.92200000e+01,   1.32700000e+01,   1.85000000e+00,\n",
       "         4.74300000e+01,   2.92200000e+01,   1.34970000e+02,\n",
       "         4.34500000e+03,   8.78100000e+01,   0.00000000e+00,\n",
       "         3.70370000e+02,   3.64040000e+02,   1.64130000e+02,\n",
       "         8.41700000e+01,   3.76800000e+01,   3.84800000e+01,\n",
       "         2.92200000e+01,   5.24100000e+01,   1.14650000e+02,\n",
       "         1.71429000e+03,   2.38100000e+01,   1.16600000e+01,\n",
       "         4.06200000e+01,   2.38200000e+01,   1.03340000e+02,\n",
       "         0.00000000e+00,   1.10890000e+02,   1.99020000e+02,\n",
       "         5.76430000e+02,   1.22690000e+02,   4.43000000e+00,\n",
       "         5.78630000e+02,   7.71000000e+00,   9.38000000e+00,\n",
       "         2.59920000e+02,   8.95500000e+01,   1.08533000e+03,\n",
       "         2.02240000e+02,   2.92200000e+01,   1.50420000e+02,\n",
       "         1.04370000e+02,   3.56000000e+00,   1.10170000e+02,\n",
       "         3.70370000e+02,   1.18200000e+01,   4.29200000e+01,\n",
       "         5.94100000e+01,   1.14330000e+02,   1.87000000e+00,\n",
       "         1.20970000e+02,   5.25100000e+01,   9.87000000e+00,\n",
       "         3.31000000e+00,   1.01130000e+02,   7.39000000e+00,\n",
       "         7.71000000e+00,   2.83150000e+02,   2.02460000e+02,\n",
       "         7.50000000e+01,   1.91500000e+01,   4.74300000e+01,\n",
       "         4.31600000e+01,   5.81590000e+02,   6.49400000e+01,\n",
       "         5.70700000e+01,   1.03830000e+02,   4.73550000e+02,\n",
       "         1.25200000e+02,   3.17000000e+00,   9.36800000e+01,\n",
       "         1.11160000e+02,   1.27370000e+02,   1.18200000e+01,\n",
       "         1.91600000e+01,   1.14220000e+02,   5.30000000e+01,\n",
       "         2.19780000e+02,   1.66200000e+01,   4.22940000e+02,\n",
       "         2.30480000e+02,   2.96000000e+00,   1.14730000e+02,\n",
       "         4.40000000e+00,   1.16300000e+02])"
      ]
     },
     "execution_count": 23,
     "metadata": {},
     "output_type": "execute_result"
    }
   ],
   "source": [
    "top_movies.apply(percent_increase, 'Gross' , 'Gross (Adjusted)')"
   ]
  },
  {
   "cell_type": "code",
   "execution_count": null,
   "metadata": {},
   "outputs": [],
   "source": []
  }
 ],
 "metadata": {
  "anaconda-cloud": {},
  "kernelspec": {
   "display_name": "Python 3",
   "language": "python",
   "name": "python3"
  },
  "language_info": {
   "codemirror_mode": {
    "name": "ipython",
    "version": 3
   },
   "file_extension": ".py",
   "mimetype": "text/x-python",
   "name": "python",
   "nbconvert_exporter": "python",
   "pygments_lexer": "ipython3",
   "version": "3.12.1"
  }
 },
 "nbformat": 4,
 "nbformat_minor": 4
}
